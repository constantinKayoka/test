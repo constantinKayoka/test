{
 "cells": [
  {
   "cell_type": "code",
   "execution_count": 1,
   "id": "broad-guinea",
   "metadata": {},
   "outputs": [],
   "source": [
    "from pymatgen.ext.matproj import MPRester\n",
    "from pymatgen import Lattice, Structure\n",
    "from pymatgen.symmetry.analyzer import SpacegroupAnalyzer\n",
    "from jupyter_jsmol.pymatgen import quick_view\n",
    "from pymatgen.electronic_structure.core import Magmom\n",
    "from pymatgen.util.string import transformation_to_string\n",
    "import numpy as np"
   ]
  },
  {
   "cell_type": "markdown",
   "id": "lesbian-reggae",
   "metadata": {},
   "source": [
    "lil wayne op"
   ]
  },
  {
   "cell_type": "code",
   "execution_count": 2,
   "id": "large-martin",
   "metadata": {},
   "outputs": [],
   "source": [
    "with MPRester(\"P0mh8HMc3qiSX5g1\") as m:\n",
    "\n",
    "    # Structure for material id\n",
    "    structure = m.get_structure_by_material_id(\"mp-24504\")\n",
    "\n",
    "    # Dos for material id\n",
    "    dos = m.get_dos_by_material_id(\"mp-24504\")\n",
    "\n",
    "    # Bandstructure for material id\n",
    "    bandstructure = m.get_bandstructure_by_material_id(\"mp-24504\")\n",
    "    \n",
    "    data = m.get_data(\"mp-24504\")[0]\n",
    "    cif = data.get('cif')\n",
    "    spa_symmop = SpacegroupAnalyzer(structure).get_symmetry_operations()"
   ]
  },
  {
   "cell_type": "code",
   "execution_count": 3,
   "id": "occupied-section",
   "metadata": {},
   "outputs": [],
   "source": [
    "def toprint(sym):\n",
    "    \"\"\"Fonction servant à imprimer les informations relatives à une certaine opération de symétrie\"\"\"\n",
    "    \n",
    "    str = sym.as_xyz_string()\n",
    "    print(\"L'équation de la symétrie est : \"+str)\n",
    "    print(\" \")\n",
    "    print(\"Les matrices de rotation et de translation sont : \")\n",
    "    print (sym)"
   ]
  },
  {
   "cell_type": "code",
   "execution_count": 4,
   "id": "auburn-winner",
   "metadata": {},
   "outputs": [
    {
     "data": {
      "application/vnd.jupyter.widget-view+json": {
       "model_id": "93c76889f58e4d32a192fb0d633895a9",
       "version_major": 2,
       "version_minor": 0
      },
      "text/plain": [
       "JsmolView(layout=Layout(align_self='stretch', height='400px'))"
      ]
     },
     "metadata": {},
     "output_type": "display_data"
    }
   ],
   "source": [
    "view1 = quick_view(structure, \"packed\")\n",
    "display(view1)\n",
    "view1.script('draw SYMOP 5 {atomno=2}')"
   ]
  },
  {
   "cell_type": "code",
   "execution_count": 5,
   "id": "entire-thirty",
   "metadata": {},
   "outputs": [
    {
     "name": "stdout",
     "output_type": "stream",
     "text": [
      "L'équation de la symétrie est : -y, x-y, z\n",
      " \n",
      "Les matrices de rotation et de translation sont : \n",
      "Rot:\n",
      "[[ 0. -1.  0.]\n",
      " [ 1. -1.  0.]\n",
      " [ 0.  0.  1.]]\n",
      "tau\n",
      "[0. 0. 0.]\n"
     ]
    }
   ],
   "source": [
    "Sym1 = spa_symmop[4]\n",
    "toprint(Sym1)"
   ]
  },
  {
   "cell_type": "code",
   "execution_count": 6,
   "id": "moral-healing",
   "metadata": {},
   "outputs": [
    {
     "data": {
      "application/vnd.jupyter.widget-view+json": {
       "model_id": "98963ce30db042ff8553e952910d1877",
       "version_major": 2,
       "version_minor": 0
      },
      "text/plain": [
       "JsmolView(layout=Layout(align_self='stretch', height='400px'))"
      ]
     },
     "metadata": {},
     "output_type": "display_data"
    }
   ],
   "source": [
    "view2 = quick_view(structure, \"packed\")\n",
    "display(view2)\n",
    "view2.script('draw SYMOP 6 {atomno=3}')"
   ]
  },
  {
   "cell_type": "code",
   "execution_count": 7,
   "id": "conventional-hamburg",
   "metadata": {},
   "outputs": [
    {
     "name": "stdout",
     "output_type": "stream",
     "text": [
      "L'équation de la symétrie est : y, -x+y, -z\n",
      " \n",
      "Les matrices de rotation et de translation sont : \n",
      "Rot:\n",
      "[[ 0.  1.  0.]\n",
      " [-1.  1.  0.]\n",
      " [ 0.  0. -1.]]\n",
      "tau\n",
      "[0. 0. 0.]\n"
     ]
    }
   ],
   "source": [
    "Sym2 = spa_symmop[5]\n",
    "toprint(Sym2)"
   ]
  },
  {
   "cell_type": "code",
   "execution_count": 8,
   "id": "indonesian-college",
   "metadata": {},
   "outputs": [
    {
     "data": {
      "application/vnd.jupyter.widget-view+json": {
       "model_id": "d1e363ac8e02427f98b0f0c420ac28ac",
       "version_major": 2,
       "version_minor": 0
      },
      "text/plain": [
       "JsmolView(layout=Layout(align_self='stretch', height='400px'))"
      ]
     },
     "metadata": {},
     "output_type": "display_data"
    }
   ],
   "source": [
    "view3 = quick_view(structure, \"packed\")\n",
    "display(view3)\n",
    "view3.script('draw SYMOP 8')"
   ]
  },
  {
   "cell_type": "code",
   "execution_count": 9,
   "id": "conditional-baptist",
   "metadata": {},
   "outputs": [
    {
     "name": "stdout",
     "output_type": "stream",
     "text": [
      "L'équation de la symétrie est : x, y, -z+1/2\n",
      " \n",
      "Les matrices de rotation et de translation sont : \n",
      "Rot:\n",
      "[[ 1.  0.  0.]\n",
      " [ 0.  1.  0.]\n",
      " [ 0.  0. -1.]]\n",
      "tau\n",
      "[0.  0.  0.5]\n"
     ]
    }
   ],
   "source": [
    "Sym3 = spa_symmop[7]\n",
    "toprint(Sym3)"
   ]
  },
  {
   "cell_type": "code",
   "execution_count": null,
   "id": "black-browser",
   "metadata": {},
   "outputs": [],
   "source": []
  }
 ],
 "metadata": {
  "kernelspec": {
   "display_name": "Python 3",
   "language": "python",
   "name": "python3"
  },
  "language_info": {
   "codemirror_mode": {
    "name": "ipython",
    "version": 3
   },
   "file_extension": ".py",
   "mimetype": "text/x-python",
   "name": "python",
   "nbconvert_exporter": "python",
   "pygments_lexer": "ipython3",
   "version": "3.6.8"
  }
 },
 "nbformat": 4,
 "nbformat_minor": 5
}
